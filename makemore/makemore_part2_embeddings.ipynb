{
 "cells": [
  {
   "cell_type": "markdown",
   "id": "49170cde-a6db-4321-8077-e3471ab77005",
   "metadata": {},
   "source": [
    "# Makemore using Neural Networks and Token Embeddings\n",
    "In this notebook, we re-implement the Makemore character-level language model introduced in Andrej Karpathy's [Building makemore Part 2: MLP](https://youtu.be/TCH_1BHY58I?si=uVESn-5E0RPsxTQS) as part of the Neural Networks: Zero to Hero series which uses the approach introduced in *A Neural Probabilistic Language Model* (Bengio et al.).\n",
    "\n",
    "The approach uses token embeddings which are fed into a MLP and then through an output layer for statistical language modeling. The embedding matrix and MLP are trained simultaneously.\n",
    "\n",
    "The original paper uses a word level vocabulary with 17000 words, and maps them to a 30-dimensional embedding vector. The idea for the embedding vector is that semantically similar words will be close (have a high dot product) in the embedding space. This has the effect of the model being able to generalize to exmaples with similar semantic meaning as those in the training data."
   ]
  },
  {
   "cell_type": "code",
   "execution_count": 1,
   "id": "df123456-bb4a-40e6-b025-994c58c91299",
   "metadata": {},
   "outputs": [],
   "source": [
    "import random\n",
    "import torch\n",
    "import torch.nn.functional as F\n",
    "import matplotlib.pyplot as plt\n",
    "%matplotlib inline"
   ]
  },
  {
   "cell_type": "code",
   "execution_count": 2,
   "id": "015660ea-4354-4bcf-9c97-fe9d91c7e41c",
   "metadata": {},
   "outputs": [
    {
     "data": {
      "text/plain": [
       "['emma', 'olivia', 'ava', 'isabella', 'sophia', 'charlotte', 'mia', 'amelia']"
      ]
     },
     "execution_count": 2,
     "metadata": {},
     "output_type": "execute_result"
    }
   ],
   "source": [
    "# set up dataset\n",
    "# !wget https://raw.githubusercontent.com/karpathy/makemore/master/names.txt\n",
    "words = open(\"names.txt\", \"r\").read().splitlines()\n",
    "words[:8]"
   ]
  },
  {
   "cell_type": "code",
   "execution_count": 3,
   "id": "9b315b48-7ba7-4b9e-8ad9-b3997b31c2cc",
   "metadata": {},
   "outputs": [
    {
     "data": {
      "text/plain": [
       "32033"
      ]
     },
     "execution_count": 3,
     "metadata": {},
     "output_type": "execute_result"
    }
   ],
   "source": [
    "len(words)"
   ]
  },
  {
   "cell_type": "code",
   "execution_count": 4,
   "id": "f1ad6782-d2b8-4d10-92fa-8a56847e5f55",
   "metadata": {},
   "outputs": [
    {
     "name": "stdout",
     "output_type": "stream",
     "text": [
      "{1: 'a', 2: 'b', 3: 'c', 4: 'd', 5: 'e', 6: 'f', 7: 'g', 8: 'h', 9: 'i', 10: 'j', 11: 'k', 12: 'l', 13: 'm', 14: 'n', 15: 'o', 16: 'p', 17: 'q', 18: 'r', 19: 's', 20: 't', 21: 'u', 22: 'v', 23: 'w', 24: 'x', 25: 'y', 26: 'z', 0: '.'}\n"
     ]
    }
   ],
   "source": [
    "# build vocabulary of characters and mappings to/from integers\n",
    "chars = sorted(list(set(''.join(words))))\n",
    "stoi = {s:i+1 for i,s in enumerate(chars)}\n",
    "stoi['.'] = 0\n",
    "itos = {i:s for s,i in stoi.items()}\n",
    "print(itos)"
   ]
  },
  {
   "cell_type": "markdown",
   "id": "d8db200d-584d-4593-9014-9158f589dc73",
   "metadata": {},
   "source": [
    "We can start to be more systematic with our neural network training method by splitting up the dataset into the training split, the validation split, and the test split. This is to prevent the model from overfitting to the training data. As the model becomes bigger, it gains the capacity to memorize the training examples to achieve near-perfect loss. However, such a model will not generalize well to previously unseen data. Therefore, we set aside some portion of our data to test and prevent this.\n",
    "\n",
    "The commonly used split is to use 80% of the data for the training split, and 10% each for validation and test splits. You train your model using the training split and evaluate the performance on the validation split. Then, we tune the hyperparameters using the performance on the validation split. Once we have a final model, we can evaluate the performance using the previously unseen test split."
   ]
  },
  {
   "cell_type": "code",
   "execution_count": 5,
   "id": "6c694e47-fdf2-4375-bfb7-2d0cdd018da1",
   "metadata": {},
   "outputs": [],
   "source": [
    "# set up hyperparameters\n",
    "block_size = 5\n",
    "embedding_size = 10\n",
    "batch_size = 32"
   ]
  },
  {
   "cell_type": "code",
   "execution_count": 6,
   "id": "519ca018-4016-48a4-8c87-6d36e4d1dc81",
   "metadata": {},
   "outputs": [],
   "source": [
    "# compile dataset\n",
    "def build_dataset(words):\n",
    "    X, Y = [], []\n",
    "    for w in words:\n",
    "        context = [0] * block_size\n",
    "        for ch in w + \".\":\n",
    "            ix = stoi[ch]\n",
    "            X.append(context)\n",
    "            Y.append(ix)\n",
    "            context = context[1:] + [ix] # crop and append\n",
    "    X = torch.tensor(X)\n",
    "    Y = torch.tensor(Y)\n",
    "    return X, Y\n",
    "\n",
    "random.seed(42)\n",
    "random.shuffle(words)\n",
    "# 80, 10, 10 split\n",
    "n1 = int(0.8 * len(words))\n",
    "n2 = int(0.9 * len(words))\n",
    "\n",
    "train_X, train_Y = build_dataset(words[:n1])\n",
    "valid_X, valid_Y = build_dataset(words[n1:n2])\n",
    "test_X, test_Y = build_dataset(words[n2:])"
   ]
  },
  {
   "cell_type": "code",
   "execution_count": 7,
   "id": "4291bf8b-fe9e-4e19-93ea-de2d9e75bc27",
   "metadata": {},
   "outputs": [
    {
     "data": {
      "text/plain": [
       "(torch.Size([182625, 5]), torch.Size([182625]))"
      ]
     },
     "execution_count": 7,
     "metadata": {},
     "output_type": "execute_result"
    }
   ],
   "source": [
    "train_X.shape, train_Y.shape"
   ]
  },
  {
   "cell_type": "code",
   "execution_count": 8,
   "id": "445656a9-936d-4546-97dc-a9dc8dc8ddb6",
   "metadata": {
    "tags": []
   },
   "outputs": [],
   "source": [
    "# set up parameters\n",
    "g = torch.Generator().manual_seed(2147483647)\n",
    "C = torch.randn((27, embedding_size), generator=g)\n",
    "W1 = torch.randn((embedding_size * block_size, 300), generator=g)\n",
    "b1 = torch.randn(300, generator=g)\n",
    "W2 = torch.randn((300, 27), generator=g)\n",
    "b2 = torch.randn(27, generator=g)\n",
    "parameters = [C, W1, b1, W2, b2]"
   ]
  },
  {
   "cell_type": "code",
   "execution_count": 9,
   "id": "37b796a5-aa3f-4d3e-8d5a-6818f103c01c",
   "metadata": {},
   "outputs": [
    {
     "data": {
      "text/plain": [
       "23697"
      ]
     },
     "execution_count": 9,
     "metadata": {},
     "output_type": "execute_result"
    }
   ],
   "source": [
    "sum(p.nelement() for p in parameters) # total number of parameters"
   ]
  },
  {
   "cell_type": "code",
   "execution_count": 10,
   "id": "e9958a3d-f47a-4ceb-87fa-dbe9b8aeba07",
   "metadata": {},
   "outputs": [],
   "source": [
    "for p in parameters:\n",
    "    p.requires_grad = True"
   ]
  },
  {
   "cell_type": "code",
   "execution_count": 11,
   "id": "de024457-a321-4620-b926-c40015301bd2",
   "metadata": {},
   "outputs": [],
   "source": [
    "# initial learning rate finding\n",
    "lre = torch.linspace(-3, 0, 1000)\n",
    "lrs = 10 ** lre"
   ]
  },
  {
   "cell_type": "code",
   "execution_count": 12,
   "id": "0afa4dc3-ba8d-4d23-a8e2-f329c2351c20",
   "metadata": {},
   "outputs": [],
   "source": [
    "# lri = []\n",
    "lossi = []\n",
    "stepi = []"
   ]
  },
  {
   "cell_type": "code",
   "execution_count": 13,
   "id": "79d9fc4b-3969-489c-8e89-039b1bcacacf",
   "metadata": {},
   "outputs": [],
   "source": [
    "for i in range(200000):\n",
    "    # construct minibatch\n",
    "    ix = torch.randint(0, train_X.shape[0], (batch_size,))\n",
    "    \n",
    "    # forward pass\n",
    "    emb = C[train_X[ix]]\n",
    "    h = torch.tanh(emb.view(-1, embedding_size * block_size) @ W1 + b1)\n",
    "    logits = h @ W2 + b2\n",
    "    loss = F.cross_entropy(logits, train_Y[ix])\n",
    "    \n",
    "    # backward pass\n",
    "    for p in parameters:\n",
    "        p.grad = None\n",
    "    loss.backward()\n",
    "\n",
    "    # update\n",
    "    lr = 0.1 if i < 100000 else 0.01\n",
    "    for p in parameters:\n",
    "        p.data += -lr * p.grad\n",
    "    \n",
    "    # track stats\n",
    "    # lri.append(lre[i])\n",
    "    lossi.append(loss.log10().item())\n",
    "    stepi.append(i)"
   ]
  },
  {
   "cell_type": "code",
   "execution_count": 14,
   "id": "54c8e747-4e1c-49b9-b8dc-4d542c60db2a",
   "metadata": {},
   "outputs": [
    {
     "data": {
      "text/plain": [
       "[<matplotlib.lines.Line2D at 0x1528e6690>]"
      ]
     },
     "execution_count": 14,
     "metadata": {},
     "output_type": "execute_result"
    },
    {
     "data": {
      "image/png": "[encoded data removed]",
      "text/plain": [
       "<Figure size 640x480 with 1 Axes>"
      ]
     },
     "metadata": {},
     "output_type": "display_data"
    }
   ],
   "source": [
    "plt.plot(stepi, lossi)"
   ]
  },
  {
   "cell_type": "code",
   "execution_count": 15,
   "id": "e3efe6c1-46da-4a41-90ab-c4aff00e72cb",
   "metadata": {},
   "outputs": [
    {
     "name": "stdout",
     "output_type": "stream",
     "text": [
      "Train loss: 2.1856236457824707\n",
      "Validation loss: 2.2112903594970703\n"
     ]
    }
   ],
   "source": [
    "# measure training and validation loss\n",
    "emb = C[train_X]\n",
    "h = torch.tanh(emb.view(-1, embedding_size * block_size) @ W1 + b1)\n",
    "logits = h @ W2 + b2\n",
    "print(f\"Train loss: {F.cross_entropy(logits, train_Y)}\") \n",
    "\n",
    "emb = C[valid_X]\n",
    "h = torch.tanh(emb.view(-1, embedding_size * block_size) @ W1 + b1)\n",
    "logits = h @ W2 + b2\n",
    "print(f\"Validation loss: {F.cross_entropy(logits, valid_Y)}\") "
   ]
  },
  {
   "cell_type": "markdown",
   "id": "607e766f-724a-4cf2-9eeb-29ac7d3af2c4",
   "metadata": {},
   "source": [
    "Some notes about training:\n",
    "1. Instead of going through the entire dataset for each update, we are instead randomly sampling a small subset of the data, known as a \"minibatch\" and performing an update only based on those examples. The minibatch allows us to approximate the gradient of the loss for the entire dataset. This approach is known as *stochastic gradient descent (SGD)* and converges much faster in practice.\n",
    "2. We adjust the learning rate based on the number of updates we have performed `lr = 0.1 if i < 100000 else 0.01`. This is called *learning rate decay*, and the rationale behind this is that as we are close to a local optimum, we should take smaller steps to avoid overshooting.\n",
    "3. We find the actual values (0.1 and 0.01) for the learning rate by first finding some rough upper and lower bounds for a good learning rate through trial and error. Then, we can try multiple learning rates in that range to see when the loss starts to increase again. This is achieved using `lre` above (we use exponentially spaced learning rates, rather than linearly spaced).\n",
    "4. If after training we see that training loss and validation loss is similar, it is likely that we are underfitting the data and could benefit from increasing the model capacity. On the other hand, if training loss and validation loss start to diverge, it is an indication that the model is starting to overfit.\n",
    "5. When we look at the loss vs number of updates, we see that the graph has a lot of thickness as it slowly decreases. This is due to the stochastic nature of SGD. The larger the size of the mini-batch, the thinner the graph will be."
   ]
  },
  {
   "cell_type": "markdown",
   "id": "1effe17f-02c5-472d-b82d-13f1d1e85690",
   "metadata": {},
   "source": [
    "Notes about PyTorch:\n",
    "1. We have the line `emb = C[train_X[ix]]` which maps each training example in the mini-batch to an embedding vector. Note that we can index into `C` which has size `(27, embedding_size)` using `train_X[ix]` which has size `(32, block_size)` to get `(32, block_size, embedding_size)`.\n",
    "2. We want to concatenate the embedding vectors in each block, to feed into the MLP. There are multiple ways to do this, but using `torch.view` is extremely efficient. This is because under the hood, all tensors have an \"underlying storage\" which stores all numbers in a one-dimensional vector. `torch.view` just changes the attributes in that underlying storage that determine how those numbers are interpreted, so there is no need to move the tensor in memory.\n",
    "3. We use `F.cross_entropy` from the PyTorch library which is mathematically equivalent to the softmax we wrote in part 1. However, the library function is much faster and well-behaved for extreme values due to under the hood optimizations."
   ]
  },
  {
   "cell_type": "markdown",
   "id": "32717553-7edb-497c-979f-46d9f86d04d2",
   "metadata": {},
   "source": [
    "One way to improve the capacity of the model is to map our tokens to higher dimensional space. When the embedding space is 2-dimensional, we can try plotting the tokens to visualize whether tokens with similar semantics are clustered together and separated from tokens with different semantics."
   ]
  },
  {
   "cell_type": "code",
   "execution_count": 16,
   "id": "31bf95fd-886c-403e-9baa-d0c5fd7f67f0",
   "metadata": {},
   "outputs": [
    {
     "data": {
      "image/png": "[encoded data removed]",
      "text/plain": [
       "<Figure size 800x800 with 1 Axes>"
      ]
     },
     "metadata": {},
     "output_type": "display_data"
    }
   ],
   "source": [
    "# visualize embedding vectors before scaling up embedding space\n",
    "plt.figure(figsize=(8,8))\n",
    "plt.scatter(C[:,0].data, C[:,1].data, s=200)\n",
    "for i in range(C.shape[0]):\n",
    "    plt.text(C[i,0].item(), C[i,1].item(), itos[i], ha=\"center\", va=\"center\", color=\"white\")\n",
    "plt.grid('minor')"
   ]
  },
  {
   "cell_type": "markdown",
   "id": "ec14a43c-6f92-40ff-a7df-177d5bd173e8",
   "metadata": {},
   "source": [
    "We can see that the model has learned some semantics about the alphabets (the vowels are clustered in the upper right, and the special character `.` is far away from all the other characters). We could try increasing the embedding space size but it would be harder to visualize."
   ]
  },
  {
   "cell_type": "code",
   "execution_count": 17,
   "id": "a689262b-f18c-400f-8814-19a993586aef",
   "metadata": {},
   "outputs": [],
   "source": [
    "# goal: beat validation loss of 2.17"
   ]
  },
  {
   "cell_type": "code",
   "execution_count": 18,
   "id": "57934fe8-fb5f-4abd-aa1e-da68d72d2ccf",
   "metadata": {},
   "outputs": [
    {
     "name": "stdout",
     "output_type": "stream",
     "text": [
      "cexze.\n",
      "momlynn.\n",
      "rorzi.\n",
      "ahari.\n",
      "jimitta.\n",
      "nalla.\n",
      "kaka.\n",
      "ar.\n",
      "samiyah.\n",
      "javer.\n"
     ]
    }
   ],
   "source": [
    "# sample from the model\n",
    "g = torch.Generator().manual_seed(2147483647)\n",
    "\n",
    "for _ in range(10):\n",
    "    out = []\n",
    "    context = [0] * block_size\n",
    "    while True:\n",
    "        emb = C[torch.tensor([context])]\n",
    "        h = torch.tanh(emb.view(1, -1) @ W1 + b1)\n",
    "        logits = h @ W2 + b2\n",
    "        probs = F.softmax(logits, dim=1)\n",
    "        ix = torch.multinomial(probs, num_samples=1, generator=g).item()\n",
    "        context = context[1:] + [ix]\n",
    "        out.append(ix)\n",
    "        if ix == 0:\n",
    "            break\n",
    "            \n",
    "    print(\"\".join(itos[i] for i in out))"
   ]
  }
 ],
 "metadata": {
  "kernelspec": {
   "display_name": "ml_env",
   "language": "python",
   "name": "ml_env"
  },
  "language_info": {
   "codemirror_mode": {
    "name": "ipython",
    "version": 3
   },
   "file_extension": ".py",
   "mimetype": "text/x-python",
   "name": "python",
   "nbconvert_exporter": "python",
   "pygments_lexer": "ipython3",
   "version": "3.11.9"
  }
 },
 "nbformat": 4,
 "nbformat_minor": 5
}
