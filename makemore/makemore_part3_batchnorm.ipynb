{
 "cells": [
  {
   "cell_type": "markdown",
   "id": "a13169ca-164d-406c-a3ba-159dfc5d0943",
   "metadata": {},
   "source": [
    "# Makemore - Initialization and BatchNorm\n",
    "\n",
    "This notebook is a summary and re-implementation of Andrej Karpathy's [Building makemore Part 3: Activations & Gradients, BatchNorm](https://youtu.be/P6sfmUTpUmc?si=epSJSH4sBF08J_SO) as part of the Neural Networks: Zero to Hero series.\n",
    "\n",
    "There are 5 main takeaways from this lecture:\n",
    "1. Why bad initialization can harm neural network training\n",
    "2. How to find correct initialization values (Kaiming He Init)\n",
    "3. Introduction to BatchNorm\n",
    "4. Diagnostic tools to determine health of NN\n",
    "5. Converting our code into a PyTorch-like API"
   ]
  },
  {
   "cell_type": "markdown",
   "id": "4b0d81b7-42c5-4ab3-99d4-16fa1b54a590",
   "metadata": {
    "tags": []
   },
   "source": [
    "## Setup code"
   ]
  },
  {
   "cell_type": "code",
   "execution_count": 1,
   "id": "df123456-bb4a-40e6-b025-994c58c91299",
   "metadata": {},
   "outputs": [],
   "source": [
    "import random\n",
    "import torch\n",
    "import torch.nn.functional as F\n",
    "import matplotlib.pyplot as plt\n",
    "%matplotlib inline"
   ]
  },
  {
   "cell_type": "code",
   "execution_count": 2,
   "id": "015660ea-4354-4bcf-9c97-fe9d91c7e41c",
   "metadata": {},
   "outputs": [
    {
     "data": {
      "text/plain": [
       "['emma', 'olivia', 'ava', 'isabella', 'sophia', 'charlotte', 'mia', 'amelia']"
      ]
     },
     "execution_count": 2,
     "metadata": {},
     "output_type": "execute_result"
    }
   ],
   "source": [
    "# set up dataset\n",
    "# !wget https://raw.githubusercontent.com/karpathy/makemore/master/names.txt\n",
    "words = open(\"names.txt\", \"r\").read().splitlines()\n",
    "words[:8]"
   ]
  },
  {
   "cell_type": "code",
   "execution_count": 3,
   "id": "9b315b48-7ba7-4b9e-8ad9-b3997b31c2cc",
   "metadata": {},
   "outputs": [
    {
     "data": {
      "text/plain": [
       "32033"
      ]
     },
     "execution_count": 3,
     "metadata": {},
     "output_type": "execute_result"
    }
   ],
   "source": [
    "len(words)"
   ]
  },
  {
   "cell_type": "code",
   "execution_count": 4,
   "id": "f1ad6782-d2b8-4d10-92fa-8a56847e5f55",
   "metadata": {},
   "outputs": [
    {
     "name": "stdout",
     "output_type": "stream",
     "text": [
      "{1: 'a', 2: 'b', 3: 'c', 4: 'd', 5: 'e', 6: 'f', 7: 'g', 8: 'h', 9: 'i', 10: 'j', 11: 'k', 12: 'l', 13: 'm', 14: 'n', 15: 'o', 16: 'p', 17: 'q', 18: 'r', 19: 's', 20: 't', 21: 'u', 22: 'v', 23: 'w', 24: 'x', 25: 'y', 26: 'z', 0: '.'}\n"
     ]
    }
   ],
   "source": [
    "# build vocabulary of characters and mappings to/from integers\n",
    "chars = sorted(list(set(''.join(words))))\n",
    "stoi = {s:i+1 for i,s in enumerate(chars)}\n",
    "stoi['.'] = 0\n",
    "itos = {i:s for s,i in stoi.items()}\n",
    "vocab_size = len(itos)\n",
    "print(itos)"
   ]
  },
  {
   "cell_type": "code",
   "execution_count": 5,
   "id": "6c694e47-fdf2-4375-bfb7-2d0cdd018da1",
   "metadata": {},
   "outputs": [],
   "source": [
    "# hyperparameters\n",
    "block_size = 3\n",
    "n_embed = 10\n",
    "n_hidden = 100\n",
    "max_steps = 200000\n",
    "batch_size = 32"
   ]
  },
  {
   "cell_type": "code",
   "execution_count": 6,
   "id": "519ca018-4016-48a4-8c87-6d36e4d1dc81",
   "metadata": {},
   "outputs": [],
   "source": [
    "# compile dataset\n",
    "def build_dataset(words):\n",
    "    X, Y = [], []\n",
    "    for w in words:\n",
    "        context = [0] * block_size\n",
    "        for ch in w + \".\":\n",
    "            ix = stoi[ch]\n",
    "            X.append(context)\n",
    "            Y.append(ix)\n",
    "            context = context[1:] + [ix] # crop and append\n",
    "    X = torch.tensor(X)\n",
    "    Y = torch.tensor(Y)\n",
    "    return X, Y\n",
    "\n",
    "random.seed(42)\n",
    "random.shuffle(words)\n",
    "# 80, 10, 10 split\n",
    "n1 = int(0.8 * len(words))\n",
    "n2 = int(0.9 * len(words))\n",
    "\n",
    "train_X, train_Y = build_dataset(words[:n1])\n",
    "valid_X, valid_Y = build_dataset(words[n1:n2])\n",
    "test_X, test_Y = build_dataset(words[n2:])"
   ]
  },
  {
   "cell_type": "markdown",
   "id": "54ee470f-5755-48ce-b806-5275314b180e",
   "metadata": {
    "tags": []
   },
   "source": [
    "## Problems with the previous training"
   ]
  },
  {
   "cell_type": "markdown",
   "id": "fe930859-08d7-4b6a-807a-a60103cf4730",
   "metadata": {
    "tags": []
   },
   "source": [
    "### 1. Softmax being confidently wrong\n",
    "\n",
    "If the output layer just before softmax provides large values, softmax will be confidently wrong, leading to a high inital loss. Let's see this by breaking out of the training loop after a single iteration."
   ]
  },
  {
   "cell_type": "code",
   "execution_count": 7,
   "id": "7d263d64-3f6e-463f-bde6-66a0303e21d8",
   "metadata": {},
   "outputs": [
    {
     "name": "stdout",
     "output_type": "stream",
     "text": [
      "5997\n"
     ]
    }
   ],
   "source": [
    "# set up parameters\n",
    "g = torch.Generator().manual_seed(2147483647)\n",
    "C = torch.randn((27, n_embed), generator=g)\n",
    "W1 = torch.randn((n_embed * block_size, n_hidden), generator=g)\n",
    "b1 = torch.randn(n_hidden, generator=g)\n",
    "W2 = torch.randn((n_hidden, 27), generator=g)\n",
    "b2 = torch.randn(27, generator=g)\n",
    "\n",
    "parameters = [C, W1, W2, b2]\n",
    "\n",
    "print(sum(p.nelement() for p in parameters)) # total number of parameters\n",
    "for p in parameters:\n",
    "    p.requires_grad = True"
   ]
  },
  {
   "cell_type": "code",
   "execution_count": 8,
   "id": "9acbea7e-24f4-455a-858a-d1276a354a53",
   "metadata": {},
   "outputs": [
    {
     "name": "stdout",
     "output_type": "stream",
     "text": [
      "      0/ 200000: 18.8487\n"
     ]
    }
   ],
   "source": [
    "for i in range(max_steps):\n",
    "    # construct minibatch\n",
    "    ix = torch.randint(0, train_X.shape[0], (batch_size,))\n",
    "    Xb, Yb = train_X[ix], train_Y[ix]\n",
    "    \n",
    "    # forward pass\n",
    "    emb = C[Xb]\n",
    "    hpreact = emb.view(-1, n_embed * block_size) @ W1 + b1\n",
    "    h = torch.tanh(hpreact)\n",
    "    logits = h @ W2 + b2\n",
    "    loss = F.cross_entropy(logits, Yb)\n",
    "    \n",
    "    # backward pass\n",
    "    for p in parameters:\n",
    "        p.grad = None\n",
    "    loss.backward()\n",
    "\n",
    "    # update\n",
    "    lr = 0.1 if i < 100000 else 0.01\n",
    "    for p in parameters:\n",
    "        p.data += -lr * p.grad\n",
    "    \n",
    "    # track stats\n",
    "    if i % 10000 == 0: # print every once in a while\n",
    "        print(f\"{i:7d}/{max_steps:7d}: {loss.item():.4f}\")\n",
    "    \n",
    "    break"
   ]
  },
  {
   "cell_type": "markdown",
   "id": "68b5e18b-f12c-4d99-b97a-3ea86fd1e70b",
   "metadata": {},
   "source": [
    "We see that the initial loss is ~17. Remember that the loss is the negative log of the probability of the correct token. Because the network is not yet trained, there is no reason for the network to believe that some character should be any more likely than any other character. So the expected loss should be"
   ]
  },
  {
   "cell_type": "code",
   "execution_count": 9,
   "id": "01a65716-43d0-4ae1-9e3b-6e7c56bd93a7",
   "metadata": {},
   "outputs": [
    {
     "data": {
      "text/plain": [
       "tensor(3.2958)"
      ]
     },
     "execution_count": 9,
     "metadata": {},
     "output_type": "execute_result"
    }
   ],
   "source": [
    "-torch.tensor(1/27.0).log()"
   ]
  },
  {
   "cell_type": "markdown",
   "id": "a435434e-dacf-47e5-afc5-9e3ec1d1f057",
   "metadata": {},
   "source": [
    "So we see that our initial loss is much larger than the expected loss. This occurs because the magnitude of our initial weights is large, so softmax gives confidently incorrect predictions. The problem with this is that training cycles are wasted on simply bringing down the magnitude of the weights, and if we plot the loss over time, we would get a hockey stick-like graph due to easy gains in the beginning, which squash the (more relevant) later parts of training. We can easily fix this by reducing the weights and biases in the output layer by multiplying the weights by a small constant (e.g. 0.01) and setting the biases to 0.\n",
    "\n",
    "We can re-initialize with smaller output layer parameters and verify the initial loss being roughly equal to the expected loss."
   ]
  },
  {
   "cell_type": "code",
   "execution_count": 10,
   "id": "b51e10a6-4e6a-488f-a353-b9e8a935ba8a",
   "metadata": {},
   "outputs": [
    {
     "name": "stdout",
     "output_type": "stream",
     "text": [
      "5997\n"
     ]
    }
   ],
   "source": [
    "# set up parameters\n",
    "g = torch.Generator().manual_seed(2147483647)\n",
    "C = torch.randn((27, n_embed), generator=g)\n",
    "W1 = torch.randn((n_embed * block_size, n_hidden), generator=g)\n",
    "b1 = torch.randn(n_hidden, generator=g)\n",
    "W2 = torch.randn((n_hidden, 27), generator=g) * 0.01\n",
    "b2 = torch.randn(27, generator=g) * 0\n",
    "\n",
    "parameters = [C, W1, W2, b2]\n",
    "\n",
    "print(sum(p.nelement() for p in parameters)) # total number of parameters\n",
    "for p in parameters:\n",
    "    p.requires_grad = True"
   ]
  },
  {
   "cell_type": "code",
   "execution_count": 11,
   "id": "2848ebe1-8839-46d7-b7a7-776ed148b04a",
   "metadata": {},
   "outputs": [
    {
     "name": "stdout",
     "output_type": "stream",
     "text": [
      "      0/ 200000: 3.2993\n"
     ]
    }
   ],
   "source": [
    "for i in range(max_steps):\n",
    "    # construct minibatch\n",
    "    ix = torch.randint(0, train_X.shape[0], (batch_size,))\n",
    "    Xb, Yb = train_X[ix], train_Y[ix]\n",
    "    \n",
    "    # forward pass\n",
    "    emb = C[Xb]\n",
    "    hpreact = emb.view(-1, n_embed * block_size) @ W1 + b1\n",
    "    h = torch.tanh(hpreact)\n",
    "    logits = h @ W2 + b2\n",
    "    loss = F.cross_entropy(logits, Yb)\n",
    "    \n",
    "    # backward pass\n",
    "    for p in parameters:\n",
    "        p.grad = None\n",
    "    loss.backward()\n",
    "\n",
    "    # update\n",
    "    lr = 0.1 if i < 100000 else 0.01\n",
    "    for p in parameters:\n",
    "        p.data += -lr * p.grad\n",
    "    \n",
    "    # track stats\n",
    "    if i % 10000 == 0: # print every once in a while\n",
    "        print(f\"{i:7d}/{max_steps:7d}: {loss.item():.4f}\")\n",
    "    \n",
    "    break"
   ]
  },
  {
   "cell_type": "markdown",
   "id": "cd75a39b-47fe-44ba-bc98-267bde487843",
   "metadata": {
    "tags": []
   },
   "source": [
    "### 2. Saturated Gradients\n",
    "\n",
    "The saturated gradient problem is when the pre-activations that feed into an activation layer such as `tanh` or `sigmoid` take on extreme values (very positive or very negative) and have very small gradients, which causes very small updates."
   ]
  },
  {
   "cell_type": "markdown",
   "id": "7c8169dc-b4d5-4bfd-9a62-bf11b6f49e24",
   "metadata": {},
   "source": [
    "For example, if the activation value `t` is close to -1 or 1, you are on the flat region of the `tanh` graph, where the gradient is almost zero. This would cut off the gradient flowing backward here and cause the neuron to not update (if this happened to the neuron for all examples, the neuron would never update, which is known as a \"dead neuron\"). Another way to see this is through the backprop update rule for `tanh`: `self.grad += (1-t**2) * out.grad` where `self.grad` would be 0 regardless of the gradient of its parents.\n",
    "\n",
    "Let's see this happen in our previous implementation:"
   ]
  },
  {
   "cell_type": "code",
   "execution_count": 12,
   "id": "783b7086-eb6a-4bb1-946f-70f2960505ca",
   "metadata": {},
   "outputs": [
    {
     "name": "stdout",
     "output_type": "stream",
     "text": [
      "5997\n"
     ]
    }
   ],
   "source": [
    "# set up parameters\n",
    "g = torch.Generator().manual_seed(2147483647)\n",
    "C = torch.randn((27, n_embed), generator=g)\n",
    "W1 = torch.randn((n_embed * block_size, n_hidden), generator=g)\n",
    "b1 = torch.randn(n_hidden, generator=g)\n",
    "W2 = torch.randn((n_hidden, 27), generator=g) * 0.01\n",
    "b2 = torch.randn(27, generator=g) * 0\n",
    "\n",
    "parameters = [C, W1, W2, b2]\n",
    "\n",
    "print(sum(p.nelement() for p in parameters)) # total number of parameters\n",
    "for p in parameters:\n",
    "    p.requires_grad = True"
   ]
  },
  {
   "cell_type": "code",
   "execution_count": 13,
   "id": "f53f2aa5-c46d-4120-861e-9c9c1165cec3",
   "metadata": {},
   "outputs": [
    {
     "name": "stdout",
     "output_type": "stream",
     "text": [
      "      0/ 200000: 3.3118\n"
     ]
    }
   ],
   "source": [
    "for i in range(max_steps):\n",
    "    # construct minibatch\n",
    "    ix = torch.randint(0, train_X.shape[0], (batch_size,))\n",
    "    Xb, Yb = train_X[ix], train_Y[ix]\n",
    "    \n",
    "    # forward pass\n",
    "    emb = C[Xb]\n",
    "    hpreact = emb.view(-1, n_embed * block_size) @ W1 + b1\n",
    "    h = torch.tanh(hpreact)\n",
    "    logits = h @ W2 + b2\n",
    "    loss = F.cross_entropy(logits, Yb)\n",
    "    \n",
    "    # backward pass\n",
    "    for p in parameters:\n",
    "        p.grad = None\n",
    "    loss.backward()\n",
    "\n",
    "    # update\n",
    "    lr = 0.1 if i < 100000 else 0.01\n",
    "    for p in parameters:\n",
    "        p.data += -lr * p.grad\n",
    "    \n",
    "    # track stats\n",
    "    if i % 10000 == 0: # print every once in a while\n",
    "        print(f\"{i:7d}/{max_steps:7d}: {loss.item():.4f}\")\n",
    "    \n",
    "    break"
   ]
  },
  {
   "cell_type": "markdown",
   "id": "3b048297-2b39-45ed-aa61-db5175cafda8",
   "metadata": {},
   "source": [
    "Let's plot the activations values after the first layer (`h`) and see how many of them took on extreme values:"
   ]
  },
  {
   "cell_type": "code",
   "execution_count": 14,
   "id": "c2d1c861-fb4f-425f-bc15-e37e060e6f3a",
   "metadata": {},
   "outputs": [
    {
     "data": {
      "image/png": "[encoded data removed]",
      "text/plain": [
       "<Figure size 1000x1000 with 1 Axes>"
      ]
     },
     "metadata": {},
     "output_type": "display_data"
    }
   ],
   "source": [
    "plt.figure(figsize=(10,10))\n",
    "plt.imshow(h.abs() > 0.99, cmap='gray', interpolation='nearest');"
   ]
  },
  {
   "cell_type": "markdown",
   "id": "873b7613-0638-4381-bff4-f9d1bc482d02",
   "metadata": {},
   "source": [
    "The white cells represent examples for which the activation was saturated. We can see that more than half of the cells are saturated, which would hinder training. (We are working with a very small network which is easier to train / more tolerant to bad initialization, but for larger networks, saturated gradients will likely halt training completely)\n",
    "\n",
    "So how do we solve this problem? We want to lower the magnitude of the pre-activation values. Similar to above, we can multiply the weights and biases by some small value to achieve this. The `Kaiming He initialization` method is a popular method that provides a systematic way to do this that provides good activation values throughout the network. We multiply the weights with $\\frac{gain}{\\sqrt{input\\_dim}}$ where $gain$ is a constant depending on the type of activation function.\n",
    "\n",
    "The intuition behind the gain multiplier is to fight the contractive nature of activation functions. Assume you have multiple blocks of a linear layer followed by an activation function. Imagine the first pass through the network in which all weights were initialized without a gain. The output coming out of each block will be slightly squashed and will converge to 0 as we go deeper into the network. To fight the effect of the contraction, we need to boost the weights by a gain to renormalize everything back to unit standard deviation.\n",
    "\n",
    "We are intentionally skipping over a lot of details here, because the paper is more mathematically involved, and modern innovations such as BatchNorm, RMSProp, and Adam made neural network training more robust to bad initialization.\n",
    "\n",
    "Another solutinon is to use a different activation function such as `Leaky ReLU`, which does not have a flat region and is less susceptible to dying gradients."
   ]
  },
  {
   "cell_type": "code",
   "execution_count": 15,
   "id": "e16efa2a-383c-4be8-9bbc-d0aee9d5b2b6",
   "metadata": {},
   "outputs": [
    {
     "name": "stdout",
     "output_type": "stream",
     "text": [
      "5997\n"
     ]
    }
   ],
   "source": [
    "# set up parameters\n",
    "TANH_GAIN = 5/3\n",
    "g = torch.Generator().manual_seed(2147483647)\n",
    "C = torch.randn((27, n_embed), generator=g)\n",
    "W1 = torch.randn((n_embed * block_size, n_hidden), generator=g) * TANH_GAIN/((n_embed*block_size)**0.5) # Kaiming He Init\n",
    "b1 = torch.randn(n_hidden, generator=g) * 0.1\n",
    "W2 = torch.randn((n_hidden, 27), generator=g) * 0.01\n",
    "b2 = torch.randn(27, generator=g) * 0\n",
    "\n",
    "parameters = [C, W1, W2, b2]\n",
    "\n",
    "print(sum(p.nelement() for p in parameters)) # total number of parameters\n",
    "for p in parameters:\n",
    "    p.requires_grad = True"
   ]
  },
  {
   "cell_type": "code",
   "execution_count": 16,
   "id": "d23bc449-757f-4dad-a217-b627ebd8569a",
   "metadata": {},
   "outputs": [
    {
     "name": "stdout",
     "output_type": "stream",
     "text": [
      "      0/ 200000: 3.3027\n"
     ]
    }
   ],
   "source": [
    "for i in range(max_steps):\n",
    "    # construct minibatch\n",
    "    ix = torch.randint(0, train_X.shape[0], (batch_size,))\n",
    "    Xb, Yb = train_X[ix], train_Y[ix]\n",
    "    \n",
    "    # forward pass\n",
    "    emb = C[Xb]\n",
    "    hpreact = emb.view(-1, n_embed * block_size) @ W1 + b1\n",
    "    h = torch.tanh(hpreact)\n",
    "    logits = h @ W2 + b2\n",
    "    loss = F.cross_entropy(logits, Yb)\n",
    "    \n",
    "    # backward pass\n",
    "    for p in parameters:\n",
    "        p.grad = None\n",
    "    loss.backward()\n",
    "\n",
    "    # update\n",
    "    lr = 0.1 if i < 100000 else 0.01\n",
    "    for p in parameters:\n",
    "        p.data += -lr * p.grad\n",
    "    \n",
    "    # track stats\n",
    "    if i % 10000 == 0: # print every once in a while\n",
    "        print(f\"{i:7d}/{max_steps:7d}: {loss.item():.4f}\")\n",
    "    \n",
    "    break"
   ]
  },
  {
   "cell_type": "code",
   "execution_count": 17,
   "id": "cf5150ac-326b-417d-a9a5-d83bb4b4e5c5",
   "metadata": {},
   "outputs": [
    {
     "data": {
      "image/png": "[encoded data removed]",
      "text/plain": [
       "<Figure size 1000x1000 with 1 Axes>"
      ]
     },
     "metadata": {},
     "output_type": "display_data"
    }
   ],
   "source": [
    "plt.figure(figsize=(10,10))\n",
    "plt.imshow(h.abs() > 0.99, cmap='gray', interpolation='nearest');"
   ]
  },
  {
   "cell_type": "markdown",
   "id": "e498b449-18aa-4d51-bf22-1638fec8dd48",
   "metadata": {},
   "source": [
    "We see that we get a lot less activated neurons with the Kaiming He initialization."
   ]
  },
  {
   "cell_type": "markdown",
   "id": "d8996b3b-0068-44b4-b7eb-b46d75c52d96",
   "metadata": {},
   "source": [
    "## BatchNorm\n",
    "BatchNorm is a technique due to a 2015 paper by Ioffe and Szegedy from Google Research that made it possible to train very deep models reliably."
   ]
  },
  {
   "cell_type": "markdown",
   "id": "463fc672-4d62-464c-88a7-2197b9e22c6f",
   "metadata": {},
   "source": [
    "The idea is that having roughty unit Gaussian pre-activations is good because many of them land in the non-flat region of the activation function. So we just take those pre-activations and normalize them (along each dimension of the batch) before passing them through the activation function. However, if we simply normalize them to be unit Gaussian, then most examples will fall in the range `[-1, 1]` where the activation function is mostly linear. This makes us lose the non-linearity in the network which is what allows the neural net to learn arbitrary functions. Therefore, we re-scale and re-shift the normalized values before passing them into the activation function. Because we do not know how much to re-scale and re-shift, we set them as trained parameters.\n",
    "\n",
    "The pseudocode is as follows:\n",
    "\n",
    "`for` each dimension of the input `do`\n",
    "1. Compute mean over batch\n",
    "2. Compute std over batch\n",
    "3. Normalize each value by subtracting mean and dividing by std\n",
    "4. Scale and shift by learned parameters $\\gamma$ and $\\beta$\n",
    "\n",
    "Batch normalization allows us to control statistics of activations in the neural net. BN layers are commonly placed after linear layers or a convolutional layers."
   ]
  },
  {
   "cell_type": "markdown",
   "id": "000c78ac-4526-427e-9285-9dc93027b682",
   "metadata": {},
   "source": [
    "Note that a BN layer requires the batch mean and batch variance to first normalize the inputs to unit Gaussian. For a training batch, we can simply compute the values over, but during test time, we may not be working with batches, and we need the values over the entire dataset. We do not like to have an extra step to compute the mean and variance over the dataset at the end, so we estimate them using an exponential moving average during training (this is what PyTorch does). Note that the EMA estimation is not part of backpropagation but just another computation on the side.\n",
    "\n",
    "Also, when we are using a BN layer, the bias in the preceding layer is canceled out, so we can remove it to reduce unnecessary computation."
   ]
  },
  {
   "cell_type": "markdown",
   "id": "0c4538ac-581f-4775-b819-e55c0c8dc85b",
   "metadata": {},
   "source": [
    "One strange thing that is happening with batch normalization is that examples in a batch are now coupled in the overall activation. Previously, we were simply batching examples for efficiency but each example was processed independently of others. This leads to many bugs, but BN works so well empirically that it is keep being used. One reason for the good performance is that BN works as a regularizer that adds noise, and makes it harder for the neural network to overfit to the data."
   ]
  },
  {
   "cell_type": "code",
   "execution_count": 18,
   "id": "4c973835-7d7e-4093-9854-ddd10fa04db9",
   "metadata": {},
   "outputs": [
    {
     "name": "stdout",
     "output_type": "stream",
     "text": [
      "6197\n"
     ]
    }
   ],
   "source": [
    "# set up parameters\n",
    "TANH_GAIN = 5/3\n",
    "g = torch.Generator().manual_seed(2147483647)\n",
    "C = torch.randn((27, n_embed), generator=g)\n",
    "W1 = torch.randn((n_embed * block_size, n_hidden), generator=g) * TANH_GAIN/((n_embed*block_size)**0.5) # Kaiming He Init\n",
    "W2 = torch.randn((n_hidden, 27), generator=g) * 0.01\n",
    "b2 = torch.randn(27, generator=g) * 0\n",
    "\n",
    "# BN params\n",
    "bngain = torch.ones((1, n_hidden))\n",
    "bnbias = torch.zeros((1, n_hidden))\n",
    "bnmean_running = torch.zeros((1, n_hidden))\n",
    "bnstd_running = torch.ones((1, n_hidden))\n",
    "\n",
    "parameters = [C, W1, W2, b2, bngain, bnbias]\n",
    "\n",
    "print(sum(p.nelement() for p in parameters)) # total number of parameters\n",
    "for p in parameters:\n",
    "    p.requires_grad = True"
   ]
  },
  {
   "cell_type": "code",
   "execution_count": null,
   "id": "6d157073-df39-4011-ae97-963500fc43fd",
   "metadata": {},
   "outputs": [
    {
     "name": "stdout",
     "output_type": "stream",
     "text": [
      "      0/ 200000: 3.2928\n",
      "  10000/ 200000: 1.9752\n",
      "  20000/ 200000: 2.1940\n",
      "  30000/ 200000: 2.1310\n",
      "  40000/ 200000: 2.4957\n",
      "  50000/ 200000: 1.8258\n",
      "  60000/ 200000: 2.0837\n",
      "  70000/ 200000: 1.9849\n",
      "  80000/ 200000: 2.5758\n",
      "  90000/ 200000: 1.7949\n"
     ]
    }
   ],
   "source": [
    "for i in range(max_steps):\n",
    "    # construct minibatch\n",
    "    ix = torch.randint(0, train_X.shape[0], (batch_size,))\n",
    "    Xb, Yb = train_X[ix], train_Y[ix]\n",
    "    \n",
    "    # forward pass\n",
    "    emb = C[Xb]\n",
    "    hpreact = emb.view(-1, n_embed * block_size) @ W1# + b1\n",
    "    # Batchnorm Layer\n",
    "    # -------------------------------------------------------------------\n",
    "    bnmeani = hpreact.mean(0, keepdim=True)\n",
    "    bnstdi = hpreact.std(0, keepdim=True)\n",
    "    hpreact = bngain * (hpreact - bnmeani) / bnstdi + bnbias # we are skipping addition of epsilon in the denominator\n",
    "    \n",
    "    # approximate mean/std of dataset during train time\n",
    "    with torch.no_grad():\n",
    "        bnmean_running = 0.999 * bnmean_running + 0.001 * bnmeani\n",
    "        bnstd_running = 0.999 * bnmean_running + 0.001 * bnstdi\n",
    "    # -------------------------------------------------------------------\n",
    "    \n",
    "    h = torch.tanh(hpreact)\n",
    "    logits = h @ W2 + b2\n",
    "    loss = F.cross_entropy(logits, Yb)\n",
    "    \n",
    "    \n",
    "    # backward pass\n",
    "    for p in parameters:\n",
    "        p.grad = None\n",
    "    loss.backward()\n",
    "\n",
    "    # update\n",
    "    lr = 0.1 if i < 100000 else 0.01\n",
    "    for p in parameters:\n",
    "        p.data += -lr * p.grad\n",
    "    \n",
    "    # track stats\n",
    "    if i % 10000 == 0: # print every once in a while\n",
    "        print(f\"{i:7d}/{max_steps:7d}: {loss.item():.4f}\")"
   ]
  },
  {
   "cell_type": "markdown",
   "id": "22a4c085-f13d-420b-888e-2ee902807c76",
   "metadata": {
    "tags": []
   },
   "source": [
    "## Introduction to PyTorch API\n",
    "The PyTorch API provided by `torch.nn` gives access to classes that can be used as layers in a neural network. "
   ]
  },
  {
   "cell_type": "markdown",
   "id": "72f17ee6-7e32-49d7-8352-4065572ca31a",
   "metadata": {},
   "source": [
    "PyTorch's `nn.Linear` module takes in `fan_in` and `fan_out` (number of input and output dimensions) and initializes weights by sampling from a uniform distribution over `(-sqrt(k), sqrt(k))` where $k=\\frac{1}{fan\\_in}$ (the scaling by `sqrt(k)` if roughly along the lines of the Kaiming He initialization seen above).\n",
    "\n",
    "PyTorch's `nn.BatchNorm1d` takes keyword arguments `eps` (typically not changed), `momentum` (used for computing running mean and std -- use smaller momentum if using small batch sizes), `affine` determines whether or not to add learnable gain and bias to the batch norm layer (default is `True` and should almost always be `True`), `track_running_stats` detemines whether to compute the running mean and std.\n",
    "\n",
    "We try to replicate the PyTorch modules in the following code:"
   ]
  },
  {
   "cell_type": "code",
   "execution_count": null,
   "id": "cad443bf-dc93-430c-9c8f-491a9153358e",
   "metadata": {},
   "outputs": [],
   "source": [
    "class Linear:\n",
    "    \n",
    "    def __init__(self, fan_in, fan_out, bias=True):\n",
    "        self.weight = torch.randn((fan_in, fan_out), generator=g) / fan_in ** 0.5\n",
    "        self.bias = torch.zeros(fan_out) if bias else None\n",
    "    \n",
    "    def __call__(self, x):\n",
    "        self.out = x @ self.weight\n",
    "        if self.bias is not None:\n",
    "            self.out += self.bias\n",
    "        return self.out\n",
    "    \n",
    "    def parameters(self):\n",
    "        return [self.weight] + ([] if self.bias is None else [self.bias])\n",
    "    \n",
    "\n",
    "class BatchNorm1d:\n",
    "    \n",
    "    def __init__(self, dim, eps=1e-5, momentum=0.1):\n",
    "        self.eps = eps\n",
    "        self.momentum = momentum\n",
    "        self.training = True # NOTE: control behavior depending on training or evaluation\n",
    "        # parameters (trained with backprop)\n",
    "        self.gamma = torch.ones(dim)\n",
    "        self.beta = torch.zeros(dim)\n",
    "        # buffers (trained with a running 'momentum update')\n",
    "        self.running_mean = torch.zeros(dim)\n",
    "        self.running_var = torch.ones(dim)\n",
    "        \n",
    "    def __call__(self, x):\n",
    "        if self.training:\n",
    "            xmean = x.mean(0, keepdim=True)\n",
    "            xvar = x.var(0, keepdim=True)\n",
    "        else:\n",
    "            xmean = x.running_mean\n",
    "            xvar = x.running_var\n",
    "        \n",
    "        xhat = (x - xmean) / torch.sqrt(xvar + self.eps) # normalize to unit variance\n",
    "        self.out = self.gamma * xhat + self.beta\n",
    "        \n",
    "        # update buffers\n",
    "        if self.training:\n",
    "            with torch.no_grad():\n",
    "                self.running_mean = (1 - self.momentum) * self.running_mean + self.momentum + xmean\n",
    "                self.running_var = (1 - self.momentum) * self.running_var + self.momentum + xvar\n",
    "        \n",
    "        return self.out\n",
    "    \n",
    "    def parameters(self):\n",
    "        return [self.gamma, self.beta]\n",
    "    \n",
    "\n",
    "class Tanh:\n",
    "    \n",
    "    def __call__(self, x):\n",
    "        self.out = torch.tanh(x)\n",
    "        return self.out\n",
    "    \n",
    "    def parameters(self):\n",
    "        return []"
   ]
  },
  {
   "cell_type": "markdown",
   "id": "ce45da72-248b-4ccb-9c76-c9160042b57f",
   "metadata": {},
   "source": [
    "## Diagnostic tools to understand the health of a neural network"
   ]
  },
  {
   "cell_type": "code",
   "execution_count": null,
   "id": "6be73ef1-447f-4eac-8288-4853ccc3be99",
   "metadata": {},
   "outputs": [],
   "source": [
    "g = torch.Generator().manual_seed(2147483647)\n",
    "\n",
    "C = torch.randn((vocab_size, n_embed), generator=g)\n",
    "layers = [\n",
    "    Linear(n_embed * block_size, n_hidden), Tanh(),\n",
    "    Linear(          n_hidden, n_hidden), Tanh(),\n",
    "    Linear(          n_hidden, n_hidden), Tanh(),\n",
    "    Linear(          n_hidden, n_hidden), Tanh(),\n",
    "    Linear(          n_hidden, n_hidden), Tanh(),\n",
    "    Linear(          n_hidden, vocab_size),\n",
    "]\n",
    "\n",
    "with torch.no_grad():\n",
    "    # make last softmax layer less confident\n",
    "    layers[-1].weight *= 0.1\n",
    "    # for other layers, apply gain\n",
    "    for layer in layers[:-1]:\n",
    "        if isinstance(layer, Linear):\n",
    "            layer.weight *= 5/3\n",
    "            \n",
    "parameters = [C] + [p for layer in layers for p in layer.parameters()]\n",
    "print(sum(p.nelement() for p in parameters))\n",
    "for p in parameters:\n",
    "    p.requires_grad = True"
   ]
  },
  {
   "cell_type": "code",
   "execution_count": null,
   "id": "026ccbd5-cfda-40de-9884-e62c19d7129b",
   "metadata": {},
   "outputs": [],
   "source": [
    "max_steps = 200000\n",
    "batch_size = 32\n",
    "lossi = []\n",
    "ud = []\n",
    "\n",
    "for i in range(max_steps):\n",
    "    \n",
    "    # minibatch construct\n",
    "    ix = torch.randint(0, train_X.shape[0], (batch_size,), generator=g)\n",
    "    Xb, Yb = train_X[ix], train_Y[ix]\n",
    "    \n",
    "    # forward pass\n",
    "    emb = C[Xb]\n",
    "    x = emb.view(emb.shape[0], -1)\n",
    "    for layer in layers:\n",
    "        x = layer(x)\n",
    "    loss = F.cross_entropy(x, Yb)\n",
    "    \n",
    "    # backward pass\n",
    "    for layer in layers:\n",
    "        layer.out.retain_grad() # AFTER_DEBUG: would take out retain_grad\n",
    "    for p in parameters:\n",
    "        p.grad = None\n",
    "    loss.backward()\n",
    "    \n",
    "    # update\n",
    "    lr = 0.1 if i < 100000 else 0.01 # LR decay\n",
    "    for p in parameters:\n",
    "        p.data += -lr * p.grad\n",
    "        \n",
    "    # track stats\n",
    "    if i % 10000 == 0:\n",
    "        print(f\"{i:7d}/{max_steps:7d}: {loss.item():.4f}\")\n",
    "    lossi.append(loss.log10().item())\n",
    "    with torch.no_grad():\n",
    "        # NOTE: I am not sure why we are using std here to meausre the grad:data ratio, I think it should be norm/mean\n",
    "        ud.append([(lr * p.grad.std() / p.data.std()).log10().item() for p in parameters])\n",
    "    \n",
    "    if i > 1000:\n",
    "        break"
   ]
  },
  {
   "cell_type": "code",
   "execution_count": null,
   "id": "6e64a725-fa64-4e8c-926d-695a5e9e4062",
   "metadata": {},
   "outputs": [],
   "source": [
    "# visualize activations from Tanh layers\n",
    "plt.figure(figsize=(20,4))\n",
    "legends = []\n",
    "for i, layer in enumerate(layers[:-1]):\n",
    "    if isinstance(layer, Tanh):\n",
    "        t = layer.out\n",
    "        print(\"layer %d (%10s): mean %+.2f, std %.2f, saturated: %.2f%%\" % (i, layer.__class__.__name__, t.mean(), t.std(), (t.abs() > 0.97).float().mean() * 100))\n",
    "        hy, hx = torch.histogram(t, density=True)\n",
    "        plt.plot(hx[:-1].detach(), hy.detach())\n",
    "        legends.append(f'layer {i} ({layer.__class__.__name__})')\n",
    "\n",
    "plt.legend(legends)\n",
    "plt.title(\"activation distribution (forward pass)\")"
   ]
  },
  {
   "cell_type": "markdown",
   "id": "0f0d48ec-f84f-4f47-8f8a-6cb6a0e6f451",
   "metadata": {},
   "source": [
    "We see that the first layer is quite saturated, but stabilizes in the later layers, which looks healthy. We would not want the saturation to be too high or too low."
   ]
  },
  {
   "cell_type": "code",
   "execution_count": null,
   "id": "4ef636d9-2984-41fc-bb8d-55681f266083",
   "metadata": {},
   "outputs": [],
   "source": [
    "# visualize gradients from Tanh layers\n",
    "plt.figure(figsize=(20,4))\n",
    "legends = []\n",
    "for i, layer in enumerate(layers[:-1]):\n",
    "    if isinstance(layer, Tanh):\n",
    "        t = layer.out.grad\n",
    "        print(\"layer %d (%10s): mean %+.2f, std %.2f, saturated: %.2f%%\" % (i, layer.__class__.__name__, t.mean(), t.std(), (t.abs() > 0.97).float().mean() * 100))\n",
    "        hy, hx = torch.histogram(t, density=True)\n",
    "        plt.plot(hx[:-1].detach(), hy.detach())\n",
    "        legends.append(f'layer {i} ({layer.__class__.__name__})')\n",
    "\n",
    "plt.legend(legends)\n",
    "plt.title(\"gradient distribution (backward pass)\")"
   ]
  },
  {
   "cell_type": "markdown",
   "id": "78611776-d498-42c1-8ab0-248485e51bcc",
   "metadata": {},
   "source": [
    "Main thing to note from this plot is that the gradients in different layers have similar values (desirable). "
   ]
  },
  {
   "cell_type": "code",
   "execution_count": null,
   "id": "9c8eca82-d96f-4f89-aecd-ffabf07d482a",
   "metadata": {},
   "outputs": [],
   "source": [
    "# visualize gradients of parameters\n",
    "plt.figure(figsize=(20, 4))\n",
    "legends = []\n",
    "for i, p in enumerate(parameters):\n",
    "    t = p.grad\n",
    "    if p.ndim == 2: # only focus on 2-dimensional params -- i.e. weights, not biases\n",
    "        # NOTE: I am not sure why we are using std here to meausre the grad:data ratio, I think it should be norm/mean\n",
    "        print(\"weight %10s | mean %+f | std %e | grad:data ratio %e\" % (tuple(p.shape), t.mean(), t.std(), t.mean() / p.mean()))\n",
    "        hy, hx = torch.histogram(t, density=True)\n",
    "        plt.plot(hx[:-1].detach(), hy.detach())\n",
    "        legends.append(f'{i} {tuple(p.shape)}')\n",
    "plt.legend(legends)\n",
    "plt.title('weights gradient distribution');"
   ]
  },
  {
   "cell_type": "code",
   "execution_count": null,
   "id": "78763d7a-e6d1-496c-9ca7-eff44e242255",
   "metadata": {},
   "outputs": [],
   "source": [
    "plt.figure(figsize=(20,4))\n",
    "legends = []\n",
    "for i, p in enumerate(parameters):\n",
    "    if p.ndim == 2:\n",
    "        plt.plot([ud[j][i] for j in range(len(ud))])\n",
    "        legends.append(\"param %d\" % i)\n",
    "plt.plot([0, len(ud)], [-3, -3], 'k') # these ratios should be ~1e-3 (heuristically), indicate on plot\n",
    "plt.legend(legends);\n",
    "# NOTE: this is also a good way to determine learning rate"
   ]
  },
  {
   "cell_type": "markdown",
   "id": "b5e86177-f984-4441-be12-c2b924364a3c",
   "metadata": {},
   "source": [
    "Using BN layers make the network much more robust to bad initialization. All the plots above, except the last, will still look similar if we removed the weight adjustments (multiplying gain). The update to data ratios will still be bad if we do not have good initialization values, but that can be fixed by simply tuning the learning rate."
   ]
  }
 ],
 "metadata": {
  "kernelspec": {
   "display_name": "ml_env",
   "language": "python",
   "name": "ml_env"
  },
  "language_info": {
   "codemirror_mode": {
    "name": "ipython",
    "version": 3
   },
   "file_extension": ".py",
   "mimetype": "text/x-python",
   "name": "python",
   "nbconvert_exporter": "python",
   "pygments_lexer": "ipython3",
   "version": "3.11.9"
  }
 },
 "nbformat": 4,
 "nbformat_minor": 5
}
